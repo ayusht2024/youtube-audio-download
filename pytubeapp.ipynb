{
 "cells": [
  {
   "cell_type": "code",
   "execution_count": 1,
   "metadata": {},
   "outputs": [
    {
     "data": {
      "text/plain": [
       "'/bin/python3'"
      ]
     },
     "execution_count": 1,
     "metadata": {},
     "output_type": "execute_result"
    }
   ],
   "source": [
    "import sys\n",
    "sys.executable"
   ]
  },
  {
   "cell_type": "code",
   "execution_count": 2,
   "metadata": {},
   "outputs": [
    {
     "name": "stdout",
     "output_type": "stream",
     "text": [
      "Defaulting to user installation because normal site-packages is not writeable\n",
      "Requirement already satisfied: pytube in /home/caspi/.local/lib/python3.10/site-packages (15.0.0)\n",
      "\n",
      "\u001b[1m[\u001b[0m\u001b[34;49mnotice\u001b[0m\u001b[1;39;49m]\u001b[0m\u001b[39;49m A new release of pip is available: \u001b[0m\u001b[31;49m23.2.1\u001b[0m\u001b[39;49m -> \u001b[0m\u001b[32;49m24.0\u001b[0m\n",
      "\u001b[1m[\u001b[0m\u001b[34;49mnotice\u001b[0m\u001b[1;39;49m]\u001b[0m\u001b[39;49m To update, run: \u001b[0m\u001b[32;49mpip install --upgrade pip\u001b[0m\n"
     ]
    }
   ],
   "source": [
    "!pip3 install pytube\n"
   ]
  },
  {
   "cell_type": "code",
   "execution_count": 3,
   "metadata": {},
   "outputs": [],
   "source": [
    "def list_available_formats(url, quality):\n",
    "    yt = YouTube(url)\n",
    "    streams = None\n",
    "    \n",
    "    if quality == \"audio\":\n",
    "        streams = yt.streams.filter(only_audio=True)\n",
    "    else:\n",
    "        streams = yt.streams.filter(res=quality)\n",
    "    \n",
    "    print(\"Available formats for\", url, \"with quality\", quality)\n",
    "    for stream in streams:\n",
    "        print(\"itag:\", stream.itag, \"| Type:\", stream.mime_type, \"| Resolution:\", stream.resolution)\n"
   ]
  },
  {
   "cell_type": "code",
   "execution_count": null,
   "metadata": {},
   "outputs": [],
   "source": []
  },
  {
   "cell_type": "markdown",
   "metadata": {},
   "source": [
    "**Lowl**"
   ]
  },
  {
   "cell_type": "code",
   "execution_count": 8,
   "metadata": {},
   "outputs": [
    {
     "name": "stdout",
     "output_type": "stream",
     "text": [
      "[{'itag': 136, 'url': 'https://rr5---sn-cnoa-pmjl.googlevideo.com/videoplayback?expire=1716048897&ei=oX9IZoiEB4KK9fwPy5-roA4&ip=117.225.137.204&id=o-AGiR7dHGspksY-vvMt52nwvLS81vCL9sekSaIG6Q4-l2&itag=136&source=youtube&requiressl=yes&xpc=EgVo2aDSNQ%3D%3D&mh=Mf&mm=31%2C29&mn=sn-cnoa-pmjl%2Csn-qxa7snel&ms=au%2Crdu&mv=m&mvi=5&pl=20&initcwndbps=313750&vprv=1&mime=video%2Fmp4&rqh=1&gir=yes&clen=31558032&dur=217.533&lmt=1715939318076154&mt=1716026942&fvip=5&keepalive=yes&c=ANDROID_MUSIC&txp=5535434&sparams=expire%2Cei%2Cip%2Cid%2Citag%2Csource%2Crequiressl%2Cxpc%2Cvprv%2Cmime%2Crqh%2Cgir%2Cclen%2Cdur%2Clmt&sig=AJfQdSswRQIhALS-OYMK1eMdXojU-oQY8TKsrKzYS67LWUxWvBoZ4ezUAiBQUs7-2VQGFKuNpQOukW-UF-TqAeFNduvEtWYxeqPCJA%3D%3D&lsparams=mh%2Cmm%2Cmn%2Cms%2Cmv%2Cmvi%2Cpl%2Cinitcwndbps&lsig=AHWaYeowRAIgJXi-RFLg2dA5LYphP5axmLQGx-ug68-ZIeCmH8HKKQkCIA4JNYw7CkIMt1R-pDmUI4ZZg-Wkv_2r518niI-bvIhy', 'mimeType': 'video/mp4; codecs=\"avc1.4d401f\"', 'bitrate': 2076413, 'width': 1280, 'height': 720, 'initRange': {'start': '0', 'end': '739'}, 'indexRange': {'start': '740', 'end': '1371'}, 'lastModified': '1715939318076154', 'contentLength': '31558032', 'quality': 'hd720', 'fps': 30, 'qualityLabel': '720p', 'projectionType': 'RECTANGULAR', 'averageBitrate': 1160579, 'approxDurationMs': '217533'}, {'itag': 247, 'url': 'https://rr5---sn-cnoa-pmjl.googlevideo.com/videoplayback?expire=1716048897&ei=oX9IZoiEB4KK9fwPy5-roA4&ip=117.225.137.204&id=o-AGiR7dHGspksY-vvMt52nwvLS81vCL9sekSaIG6Q4-l2&itag=247&source=youtube&requiressl=yes&xpc=EgVo2aDSNQ%3D%3D&mh=Mf&mm=31%2C29&mn=sn-cnoa-pmjl%2Csn-qxa7snel&ms=au%2Crdu&mv=m&mvi=5&pl=20&initcwndbps=313750&vprv=1&mime=video%2Fwebm&rqh=1&gir=yes&clen=24759898&dur=217.533&lmt=1715938837074009&mt=1716026942&fvip=5&keepalive=yes&c=ANDROID_MUSIC&txp=5535434&sparams=expire%2Cei%2Cip%2Cid%2Citag%2Csource%2Crequiressl%2Cxpc%2Cvprv%2Cmime%2Crqh%2Cgir%2Cclen%2Cdur%2Clmt&sig=AJfQdSswRgIhAKB1y-tXRM_rYBRKcbAqlLfVoiTwMeMu7MH9MQnGfYrAAiEAiETV_QzN8EL3NaqZmzlTPnp45LI8_frYrQo3xzbsSl0%3D&lsparams=mh%2Cmm%2Cmn%2Cms%2Cmv%2Cmvi%2Cpl%2Cinitcwndbps&lsig=AHWaYeowRAIgJXi-RFLg2dA5LYphP5axmLQGx-ug68-ZIeCmH8HKKQkCIA4JNYw7CkIMt1R-pDmUI4ZZg-Wkv_2r518niI-bvIhy', 'mimeType': 'video/webm; codecs=\"vp9\"', 'bitrate': 1500315, 'width': 1280, 'height': 720, 'initRange': {'start': '0', 'end': '219'}, 'indexRange': {'start': '220', 'end': '1076'}, 'lastModified': '1715938837074009', 'contentLength': '24759898', 'quality': 'hd720', 'fps': 30, 'qualityLabel': '720p', 'projectionType': 'RECTANGULAR', 'averageBitrate': 910570, 'colorInfo': {'primaries': 'COLOR_PRIMARIES_BT709', 'transferCharacteristics': 'COLOR_TRANSFER_CHARACTERISTICS_BT709', 'matrixCoefficients': 'COLOR_MATRIX_COEFFICIENTS_BT709'}, 'approxDurationMs': '217533'}, {'itag': 135, 'url': 'https://rr5---sn-cnoa-pmjl.googlevideo.com/videoplayback?expire=1716048897&ei=oX9IZoiEB4KK9fwPy5-roA4&ip=117.225.137.204&id=o-AGiR7dHGspksY-vvMt52nwvLS81vCL9sekSaIG6Q4-l2&itag=135&source=youtube&requiressl=yes&xpc=EgVo2aDSNQ%3D%3D&mh=Mf&mm=31%2C29&mn=sn-cnoa-pmjl%2Csn-qxa7snel&ms=au%2Crdu&mv=m&mvi=5&pl=20&initcwndbps=313750&vprv=1&mime=video%2Fmp4&rqh=1&gir=yes&clen=10021670&dur=217.533&lmt=1715939283554245&mt=1716026942&fvip=5&keepalive=yes&c=ANDROID_MUSIC&txp=5535434&sparams=expire%2Cei%2Cip%2Cid%2Citag%2Csource%2Crequiressl%2Cxpc%2Cvprv%2Cmime%2Crqh%2Cgir%2Cclen%2Cdur%2Clmt&sig=AJfQdSswRgIhAJI4vuXXDld0hznzoA-1KtlQq-FAu9SFEb-UnloBKXjtAiEAhM55HJaumQExR-saLVKHHs1-rgtB0i2Quw2DtcsjRVM%3D&lsparams=mh%2Cmm%2Cmn%2Cms%2Cmv%2Cmvi%2Cpl%2Cinitcwndbps&lsig=AHWaYeowRAIgJXi-RFLg2dA5LYphP5axmLQGx-ug68-ZIeCmH8HKKQkCIA4JNYw7CkIMt1R-pDmUI4ZZg-Wkv_2r518niI-bvIhy', 'mimeType': 'video/mp4; codecs=\"avc1.4d401f\"', 'bitrate': 692851, 'width': 854, 'height': 480, 'initRange': {'start': '0', 'end': '740'}, 'indexRange': {'start': '741', 'end': '1372'}, 'lastModified': '1715939283554245', 'contentLength': '10021670', 'quality': 'large', 'fps': 30, 'qualityLabel': '480p', 'projectionType': 'RECTANGULAR', 'averageBitrate': 368557, 'approxDurationMs': '217533'}, {'itag': 244, 'url': 'https://rr5---sn-cnoa-pmjl.googlevideo.com/videoplayback?expire=1716048897&ei=oX9IZoiEB4KK9fwPy5-roA4&ip=117.225.137.204&id=o-AGiR7dHGspksY-vvMt52nwvLS81vCL9sekSaIG6Q4-l2&itag=244&source=youtube&requiressl=yes&xpc=EgVo2aDSNQ%3D%3D&mh=Mf&mm=31%2C29&mn=sn-cnoa-pmjl%2Csn-qxa7snel&ms=au%2Crdu&mv=m&mvi=5&pl=20&initcwndbps=313750&vprv=1&mime=video%2Fwebm&rqh=1&gir=yes&clen=12342329&dur=217.533&lmt=1715938854102670&mt=1716026942&fvip=5&keepalive=yes&c=ANDROID_MUSIC&txp=5535434&sparams=expire%2Cei%2Cip%2Cid%2Citag%2Csource%2Crequiressl%2Cxpc%2Cvprv%2Cmime%2Crqh%2Cgir%2Cclen%2Cdur%2Clmt&sig=AJfQdSswRQIgV7Cnx_AibdvLJTd3SEV-FdnFLA8Mmt7ALsq3FpEXasMCIQDKN7v1_ziIhuxZVWJgUFu3J6EF4KB0z11L7scV_eKpWQ%3D%3D&lsparams=mh%2Cmm%2Cmn%2Cms%2Cmv%2Cmvi%2Cpl%2Cinitcwndbps&lsig=AHWaYeowRAIgJXi-RFLg2dA5LYphP5axmLQGx-ug68-ZIeCmH8HKKQkCIA4JNYw7CkIMt1R-pDmUI4ZZg-Wkv_2r518niI-bvIhy', 'mimeType': 'video/webm; codecs=\"vp9\"', 'bitrate': 746240, 'width': 854, 'height': 480, 'initRange': {'start': '0', 'end': '219'}, 'indexRange': {'start': '220', 'end': '1057'}, 'lastModified': '1715938854102670', 'contentLength': '12342329', 'quality': 'large', 'fps': 30, 'qualityLabel': '480p', 'projectionType': 'RECTANGULAR', 'averageBitrate': 453901, 'colorInfo': {'primaries': 'COLOR_PRIMARIES_BT709', 'transferCharacteristics': 'COLOR_TRANSFER_CHARACTERISTICS_BT709', 'matrixCoefficients': 'COLOR_MATRIX_COEFFICIENTS_BT709'}, 'approxDurationMs': '217533'}, {'itag': 134, 'url': 'https://rr5---sn-cnoa-pmjl.googlevideo.com/videoplayback?expire=1716048897&ei=oX9IZoiEB4KK9fwPy5-roA4&ip=117.225.137.204&id=o-AGiR7dHGspksY-vvMt52nwvLS81vCL9sekSaIG6Q4-l2&itag=134&source=youtube&requiressl=yes&xpc=EgVo2aDSNQ%3D%3D&mh=Mf&mm=31%2C29&mn=sn-cnoa-pmjl%2Csn-qxa7snel&ms=au%2Crdu&mv=m&mvi=5&pl=20&initcwndbps=313750&vprv=1&mime=video%2Fmp4&rqh=1&gir=yes&clen=7467630&dur=217.533&lmt=1715939290155762&mt=1716026942&fvip=5&keepalive=yes&c=ANDROID_MUSIC&txp=5535434&sparams=expire%2Cei%2Cip%2Cid%2Citag%2Csource%2Crequiressl%2Cxpc%2Cvprv%2Cmime%2Crqh%2Cgir%2Cclen%2Cdur%2Clmt&sig=AJfQdSswRgIhAOurHPUbr7qAFCKq11QehRcZ7VRDFURx0HxurIsaEfkfAiEAtzRWma3Gcbsh_dC_GQ5mr4chjRXIkAiFyAtumrf6zxo%3D&lsparams=mh%2Cmm%2Cmn%2Cms%2Cmv%2Cmvi%2Cpl%2Cinitcwndbps&lsig=AHWaYeowRAIgJXi-RFLg2dA5LYphP5axmLQGx-ug68-ZIeCmH8HKKQkCIA4JNYw7CkIMt1R-pDmUI4ZZg-Wkv_2r518niI-bvIhy', 'mimeType': 'video/mp4; codecs=\"avc1.4d401e\"', 'bitrate': 535633, 'width': 640, 'height': 360, 'initRange': {'start': '0', 'end': '740'}, 'indexRange': {'start': '741', 'end': '1372'}, 'lastModified': '1715939290155762', 'contentLength': '7467630', 'quality': 'medium', 'fps': 30, 'qualityLabel': '360p', 'projectionType': 'RECTANGULAR', 'averageBitrate': 274629, 'highReplication': True, 'approxDurationMs': '217533'}, {'itag': 243, 'url': 'https://rr5---sn-cnoa-pmjl.googlevideo.com/videoplayback?expire=1716048897&ei=oX9IZoiEB4KK9fwPy5-roA4&ip=117.225.137.204&id=o-AGiR7dHGspksY-vvMt52nwvLS81vCL9sekSaIG6Q4-l2&itag=243&source=youtube&requiressl=yes&xpc=EgVo2aDSNQ%3D%3D&mh=Mf&mm=31%2C29&mn=sn-cnoa-pmjl%2Csn-qxa7snel&ms=au%2Crdu&mv=m&mvi=5&pl=20&initcwndbps=313750&vprv=1&mime=video%2Fwebm&rqh=1&gir=yes&clen=7771969&dur=217.533&lmt=1715938822900800&mt=1716026942&fvip=5&keepalive=yes&c=ANDROID_MUSIC&txp=5535434&sparams=expire%2Cei%2Cip%2Cid%2Citag%2Csource%2Crequiressl%2Cxpc%2Cvprv%2Cmime%2Crqh%2Cgir%2Cclen%2Cdur%2Clmt&sig=AJfQdSswRgIhAJtuNy9M1DpP9gfbd8e_u8lG0UK2eRkU19VKl50aGagzAiEA51RYuTZ3nmzjRFA7QcLFC0tG03Y5wCm3ZU6H_8pNc-Q%3D&lsparams=mh%2Cmm%2Cmn%2Cms%2Cmv%2Cmvi%2Cpl%2Cinitcwndbps&lsig=AHWaYeowRAIgJXi-RFLg2dA5LYphP5axmLQGx-ug68-ZIeCmH8HKKQkCIA4JNYw7CkIMt1R-pDmUI4ZZg-Wkv_2r518niI-bvIhy', 'mimeType': 'video/webm; codecs=\"vp9\"', 'bitrate': 408393, 'width': 640, 'height': 360, 'initRange': {'start': '0', 'end': '219'}, 'indexRange': {'start': '220', 'end': '1057'}, 'lastModified': '1715938822900800', 'contentLength': '7771969', 'quality': 'medium', 'fps': 30, 'qualityLabel': '360p', 'projectionType': 'RECTANGULAR', 'averageBitrate': 285822, 'colorInfo': {'primaries': 'COLOR_PRIMARIES_BT709', 'transferCharacteristics': 'COLOR_TRANSFER_CHARACTERISTICS_BT709', 'matrixCoefficients': 'COLOR_MATRIX_COEFFICIENTS_BT709'}, 'approxDurationMs': '217533'}, {'itag': 133, 'url': 'https://rr5---sn-cnoa-pmjl.googlevideo.com/videoplayback?expire=1716048897&ei=oX9IZoiEB4KK9fwPy5-roA4&ip=117.225.137.204&id=o-AGiR7dHGspksY-vvMt52nwvLS81vCL9sekSaIG6Q4-l2&itag=133&source=youtube&requiressl=yes&xpc=EgVo2aDSNQ%3D%3D&mh=Mf&mm=31%2C29&mn=sn-cnoa-pmjl%2Csn-qxa7snel&ms=au%2Crdu&mv=m&mvi=5&pl=20&initcwndbps=313750&vprv=1&mime=video%2Fmp4&rqh=1&gir=yes&clen=4443139&dur=217.533&lmt=1715939264861440&mt=1716026942&fvip=5&keepalive=yes&c=ANDROID_MUSIC&txp=5535434&sparams=expire%2Cei%2Cip%2Cid%2Citag%2Csource%2Crequiressl%2Cxpc%2Cvprv%2Cmime%2Crqh%2Cgir%2Cclen%2Cdur%2Clmt&sig=AJfQdSswRQIgcfxg3xrjMTnnEehd9EK_OYQkuD5XAgax0mpx20T4kXQCIQCqmSb9snENWIFjCEC3XAkhjqCSgXV7s914oTAywStqlQ%3D%3D&lsparams=mh%2Cmm%2Cmn%2Cms%2Cmv%2Cmvi%2Cpl%2Cinitcwndbps&lsig=AHWaYeowRAIgJXi-RFLg2dA5LYphP5axmLQGx-ug68-ZIeCmH8HKKQkCIA4JNYw7CkIMt1R-pDmUI4ZZg-Wkv_2r518niI-bvIhy', 'mimeType': 'video/mp4; codecs=\"avc1.4d4015\"', 'bitrate': 287833, 'width': 426, 'height': 240, 'initRange': {'start': '0', 'end': '739'}, 'indexRange': {'start': '740', 'end': '1371'}, 'lastModified': '1715939264861440', 'contentLength': '4443139', 'quality': 'small', 'fps': 30, 'qualityLabel': '240p', 'projectionType': 'RECTANGULAR', 'averageBitrate': 163401, 'approxDurationMs': '217533'}, {'itag': 242, 'url': 'https://rr5---sn-cnoa-pmjl.googlevideo.com/videoplayback?expire=1716048897&ei=oX9IZoiEB4KK9fwPy5-roA4&ip=117.225.137.204&id=o-AGiR7dHGspksY-vvMt52nwvLS81vCL9sekSaIG6Q4-l2&itag=242&source=youtube&requiressl=yes&xpc=EgVo2aDSNQ%3D%3D&mh=Mf&mm=31%2C29&mn=sn-cnoa-pmjl%2Csn-qxa7snel&ms=au%2Crdu&mv=m&mvi=5&pl=20&initcwndbps=313750&vprv=1&mime=video%2Fwebm&rqh=1&gir=yes&clen=4348208&dur=217.533&lmt=1715938836026022&mt=1716026942&fvip=5&keepalive=yes&c=ANDROID_MUSIC&txp=5535434&sparams=expire%2Cei%2Cip%2Cid%2Citag%2Csource%2Crequiressl%2Cxpc%2Cvprv%2Cmime%2Crqh%2Cgir%2Cclen%2Cdur%2Clmt&sig=AJfQdSswRQIgcr4f96Gx21k7B7Cn8bLyuGiIj9aEQua2D-G1Sv5QwToCIQDmhZeDZEfZMZuZZjRJ9qy-78NCawrgCYU0xpgQMRlXmA%3D%3D&lsparams=mh%2Cmm%2Cmn%2Cms%2Cmv%2Cmvi%2Cpl%2Cinitcwndbps&lsig=AHWaYeowRAIgJXi-RFLg2dA5LYphP5axmLQGx-ug68-ZIeCmH8HKKQkCIA4JNYw7CkIMt1R-pDmUI4ZZg-Wkv_2r518niI-bvIhy', 'mimeType': 'video/webm; codecs=\"vp9\"', 'bitrate': 223395, 'width': 426, 'height': 240, 'initRange': {'start': '0', 'end': '218'}, 'indexRange': {'start': '219', 'end': '1055'}, 'lastModified': '1715938836026022', 'contentLength': '4348208', 'quality': 'small', 'fps': 30, 'qualityLabel': '240p', 'projectionType': 'RECTANGULAR', 'averageBitrate': 159909, 'colorInfo': {'primaries': 'COLOR_PRIMARIES_BT709', 'transferCharacteristics': 'COLOR_TRANSFER_CHARACTERISTICS_BT709', 'matrixCoefficients': 'COLOR_MATRIX_COEFFICIENTS_BT709'}, 'approxDurationMs': '217533'}, {'itag': 160, 'url': 'https://rr5---sn-cnoa-pmjl.googlevideo.com/videoplayback?expire=1716048897&ei=oX9IZoiEB4KK9fwPy5-roA4&ip=117.225.137.204&id=o-AGiR7dHGspksY-vvMt52nwvLS81vCL9sekSaIG6Q4-l2&itag=160&source=youtube&requiressl=yes&xpc=EgVo2aDSNQ%3D%3D&mh=Mf&mm=31%2C29&mn=sn-cnoa-pmjl%2Csn-qxa7snel&ms=au%2Crdu&mv=m&mvi=5&pl=20&initcwndbps=313750&vprv=1&mime=video%2Fmp4&rqh=1&gir=yes&clen=1994003&dur=217.533&lmt=1715939286627053&mt=1716026942&fvip=5&keepalive=yes&c=ANDROID_MUSIC&txp=5535434&sparams=expire%2Cei%2Cip%2Cid%2Citag%2Csource%2Crequiressl%2Cxpc%2Cvprv%2Cmime%2Crqh%2Cgir%2Cclen%2Cdur%2Clmt&sig=AJfQdSswRQIgU09DD630iCYdFJXJG-a5zBCR8SnWDgJjRFSuu9iwVZsCIQDl7akveRqAygKS6pIMtiqZe01K8M85gwJ3BnxI3AFTEw%3D%3D&lsparams=mh%2Cmm%2Cmn%2Cms%2Cmv%2Cmvi%2Cpl%2Cinitcwndbps&lsig=AHWaYeowRAIgJXi-RFLg2dA5LYphP5axmLQGx-ug68-ZIeCmH8HKKQkCIA4JNYw7CkIMt1R-pDmUI4ZZg-Wkv_2r518niI-bvIhy', 'mimeType': 'video/mp4; codecs=\"avc1.4d400c\"', 'bitrate': 108766, 'width': 256, 'height': 144, 'initRange': {'start': '0', 'end': '738'}, 'indexRange': {'start': '739', 'end': '1370'}, 'lastModified': '1715939286627053', 'contentLength': '1994003', 'quality': 'tiny', 'fps': 30, 'qualityLabel': '144p', 'projectionType': 'RECTANGULAR', 'averageBitrate': 73331, 'approxDurationMs': '217533'}, {'itag': 278, 'url': 'https://rr5---sn-cnoa-pmjl.googlevideo.com/videoplayback?expire=1716048897&ei=oX9IZoiEB4KK9fwPy5-roA4&ip=117.225.137.204&id=o-AGiR7dHGspksY-vvMt52nwvLS81vCL9sekSaIG6Q4-l2&itag=278&source=youtube&requiressl=yes&xpc=EgVo2aDSNQ%3D%3D&mh=Mf&mm=31%2C29&mn=sn-cnoa-pmjl%2Csn-qxa7snel&ms=au%2Crdu&mv=m&mvi=5&pl=20&initcwndbps=313750&vprv=1&mime=video%2Fwebm&rqh=1&gir=yes&clen=2252737&dur=217.533&lmt=1715938943769958&mt=1716026942&fvip=5&keepalive=yes&c=ANDROID_MUSIC&txp=5535434&sparams=expire%2Cei%2Cip%2Cid%2Citag%2Csource%2Crequiressl%2Cxpc%2Cvprv%2Cmime%2Crqh%2Cgir%2Cclen%2Cdur%2Clmt&sig=AJfQdSswRgIhANNw1U6MUN6iQczNqCWG4KgLZUZNv2JvVj1uwyQwcKysAiEAmcJKYovtFG4EF77hKuc5M3RmTik7alCM26eRAdduXRE%3D&lsparams=mh%2Cmm%2Cmn%2Cms%2Cmv%2Cmvi%2Cpl%2Cinitcwndbps&lsig=AHWaYeowRAIgJXi-RFLg2dA5LYphP5axmLQGx-ug68-ZIeCmH8HKKQkCIA4JNYw7CkIMt1R-pDmUI4ZZg-Wkv_2r518niI-bvIhy', 'mimeType': 'video/webm; codecs=\"vp9\"', 'bitrate': 97974, 'width': 256, 'height': 144, 'initRange': {'start': '0', 'end': '218'}, 'indexRange': {'start': '219', 'end': '1055'}, 'lastModified': '1715938943769958', 'contentLength': '2252737', 'quality': 'tiny', 'fps': 30, 'qualityLabel': '144p', 'projectionType': 'RECTANGULAR', 'averageBitrate': 82846, 'colorInfo': {'primaries': 'COLOR_PRIMARIES_BT709', 'transferCharacteristics': 'COLOR_TRANSFER_CHARACTERISTICS_BT709', 'matrixCoefficients': 'COLOR_MATRIX_COEFFICIENTS_BT709'}, 'approxDurationMs': '217533'}, {'itag': 139, 'url': 'https://rr5---sn-cnoa-pmjl.googlevideo.com/videoplayback?expire=1716048897&ei=oX9IZoiEB4KK9fwPy5-roA4&ip=117.225.137.204&id=o-AGiR7dHGspksY-vvMt52nwvLS81vCL9sekSaIG6Q4-l2&itag=139&source=youtube&requiressl=yes&xpc=EgVo2aDSNQ%3D%3D&mh=Mf&mm=31%2C29&mn=sn-cnoa-pmjl%2Csn-qxa7snel&ms=au%2Crdu&mv=m&mvi=5&pl=20&initcwndbps=313750&vprv=1&mime=audio%2Fmp4&rqh=1&gir=yes&clen=1328479&dur=217.663&lmt=1715936428426407&mt=1716026942&fvip=5&keepalive=yes&c=ANDROID_MUSIC&txp=5532434&sparams=expire%2Cei%2Cip%2Cid%2Citag%2Csource%2Crequiressl%2Cxpc%2Cvprv%2Cmime%2Crqh%2Cgir%2Cclen%2Cdur%2Clmt&sig=AJfQdSswRQIhAKjJRqpxdrezRcoLl-LOVb0g7039xl3B7GAMXeY7QdUjAiAZSxNeDIlIlDXHAmIgugN6wKVoau3DarAtpSd7oiJaUw%3D%3D&lsparams=mh%2Cmm%2Cmn%2Cms%2Cmv%2Cmvi%2Cpl%2Cinitcwndbps&lsig=AHWaYeowRAIgJXi-RFLg2dA5LYphP5axmLQGx-ug68-ZIeCmH8HKKQkCIA4JNYw7CkIMt1R-pDmUI4ZZg-Wkv_2r518niI-bvIhy', 'mimeType': 'audio/mp4; codecs=\"mp4a.40.5\"', 'bitrate': 49974, 'initRange': {'start': '0', 'end': '731'}, 'indexRange': {'start': '732', 'end': '1027'}, 'lastModified': '1715936428426407', 'contentLength': '1328479', 'quality': 'tiny', 'projectionType': 'RECTANGULAR', 'averageBitrate': 48827, 'audioQuality': 'AUDIO_QUALITY_LOW', 'approxDurationMs': '217663', 'audioSampleRate': '22050', 'audioChannels': 2, 'loudnessDb': -0.6199999}, {'itag': 140, 'url': 'https://rr5---sn-cnoa-pmjl.googlevideo.com/videoplayback?expire=1716048897&ei=oX9IZoiEB4KK9fwPy5-roA4&ip=117.225.137.204&id=o-AGiR7dHGspksY-vvMt52nwvLS81vCL9sekSaIG6Q4-l2&itag=140&source=youtube&requiressl=yes&xpc=EgVo2aDSNQ%3D%3D&mh=Mf&mm=31%2C29&mn=sn-cnoa-pmjl%2Csn-qxa7snel&ms=au%2Crdu&mv=m&mvi=5&pl=20&initcwndbps=313750&vprv=1&mime=audio%2Fmp4&rqh=1&gir=yes&clen=3521928&dur=217.570&lmt=1715936428391799&mt=1716026942&fvip=5&keepalive=yes&c=ANDROID_MUSIC&txp=5532434&sparams=expire%2Cei%2Cip%2Cid%2Citag%2Csource%2Crequiressl%2Cxpc%2Cvprv%2Cmime%2Crqh%2Cgir%2Cclen%2Cdur%2Clmt&sig=AJfQdSswRAIgdF_oHBJvDWActqMPTlQFvydJfaaCrbF1XeIwebGpXqgCIG8AO7aEwEuuMQ5MmLtaTeAxmX3ZPXiUE5uhdgv_UpsT&lsparams=mh%2Cmm%2Cmn%2Cms%2Cmv%2Cmvi%2Cpl%2Cinitcwndbps&lsig=AHWaYeowRAIgJXi-RFLg2dA5LYphP5axmLQGx-ug68-ZIeCmH8HKKQkCIA4JNYw7CkIMt1R-pDmUI4ZZg-Wkv_2r518niI-bvIhy', 'mimeType': 'audio/mp4; codecs=\"mp4a.40.2\"', 'bitrate': 130439, 'initRange': {'start': '0', 'end': '722'}, 'indexRange': {'start': '723', 'end': '1018'}, 'lastModified': '1715936428391799', 'contentLength': '3521928', 'quality': 'tiny', 'projectionType': 'RECTANGULAR', 'averageBitrate': 129500, 'highReplication': True, 'audioQuality': 'AUDIO_QUALITY_MEDIUM', 'approxDurationMs': '217570', 'audioSampleRate': '44100', 'audioChannels': 2, 'loudnessDb': -0.6199999}, {'itag': 249, 'url': 'https://rr5---sn-cnoa-pmjl.googlevideo.com/videoplayback?expire=1716048897&ei=oX9IZoiEB4KK9fwPy5-roA4&ip=117.225.137.204&id=o-AGiR7dHGspksY-vvMt52nwvLS81vCL9sekSaIG6Q4-l2&itag=249&source=youtube&requiressl=yes&xpc=EgVo2aDSNQ%3D%3D&mh=Mf&mm=31%2C29&mn=sn-cnoa-pmjl%2Csn-qxa7snel&ms=au%2Crdu&mv=m&mvi=5&pl=20&initcwndbps=313750&vprv=1&mime=audio%2Fwebm&rqh=1&gir=yes&clen=1330142&dur=217.541&lmt=1715936460411819&mt=1716026942&fvip=5&keepalive=yes&c=ANDROID_MUSIC&txp=5532434&sparams=expire%2Cei%2Cip%2Cid%2Citag%2Csource%2Crequiressl%2Cxpc%2Cvprv%2Cmime%2Crqh%2Cgir%2Cclen%2Cdur%2Clmt&sig=AJfQdSswRgIhAJ5dK7PQTZpIZ9LZQ-LPQXqY3o8iHpTOryZY4kTLnCAYAiEAxIdXmh2yeZCS0q8JMyJ3xJ-jKE2_lfWT7mdrlQbweu8%3D&lsparams=mh%2Cmm%2Cmn%2Cms%2Cmv%2Cmvi%2Cpl%2Cinitcwndbps&lsig=AHWaYeowRAIgJXi-RFLg2dA5LYphP5axmLQGx-ug68-ZIeCmH8HKKQkCIA4JNYw7CkIMt1R-pDmUI4ZZg-Wkv_2r518niI-bvIhy', 'mimeType': 'audio/webm; codecs=\"opus\"', 'bitrate': 57334, 'initRange': {'start': '0', 'end': '265'}, 'indexRange': {'start': '266', 'end': '635'}, 'lastModified': '1715936460411819', 'contentLength': '1330142', 'quality': 'tiny', 'projectionType': 'RECTANGULAR', 'averageBitrate': 48915, 'audioQuality': 'AUDIO_QUALITY_LOW', 'approxDurationMs': '217541', 'audioSampleRate': '48000', 'audioChannels': 2, 'loudnessDb': -0.6199999}, {'itag': 250, 'url': 'https://rr5---sn-cnoa-pmjl.googlevideo.com/videoplayback?expire=1716048897&ei=oX9IZoiEB4KK9fwPy5-roA4&ip=117.225.137.204&id=o-AGiR7dHGspksY-vvMt52nwvLS81vCL9sekSaIG6Q4-l2&itag=250&source=youtube&requiressl=yes&xpc=EgVo2aDSNQ%3D%3D&mh=Mf&mm=31%2C29&mn=sn-cnoa-pmjl%2Csn-qxa7snel&ms=au%2Crdu&mv=m&mvi=5&pl=20&initcwndbps=313750&vprv=1&mime=audio%2Fwebm&rqh=1&gir=yes&clen=1768661&dur=217.541&lmt=1715936462247885&mt=1716026942&fvip=5&keepalive=yes&c=ANDROID_MUSIC&txp=5532434&sparams=expire%2Cei%2Cip%2Cid%2Citag%2Csource%2Crequiressl%2Cxpc%2Cvprv%2Cmime%2Crqh%2Cgir%2Cclen%2Cdur%2Clmt&sig=AJfQdSswRAIgYRt-Qa_M3EfSuNoPGB9OiCKtgZ37WM877Kik7jl6hAMCIDfVfDsF3gMq7kz_RLI8vtevEev3EskYsHVUoyF8W0k9&lsparams=mh%2Cmm%2Cmn%2Cms%2Cmv%2Cmvi%2Cpl%2Cinitcwndbps&lsig=AHWaYeowRAIgJXi-RFLg2dA5LYphP5axmLQGx-ug68-ZIeCmH8HKKQkCIA4JNYw7CkIMt1R-pDmUI4ZZg-Wkv_2r518niI-bvIhy', 'mimeType': 'audio/webm; codecs=\"opus\"', 'bitrate': 76012, 'initRange': {'start': '0', 'end': '265'}, 'indexRange': {'start': '266', 'end': '636'}, 'lastModified': '1715936462247885', 'contentLength': '1768661', 'quality': 'tiny', 'projectionType': 'RECTANGULAR', 'averageBitrate': 65041, 'audioQuality': 'AUDIO_QUALITY_LOW', 'approxDurationMs': '217541', 'audioSampleRate': '48000', 'audioChannels': 2, 'loudnessDb': -0.6199999}, {'itag': 251, 'url': 'https://rr5---sn-cnoa-pmjl.googlevideo.com/videoplayback?expire=1716048897&ei=oX9IZoiEB4KK9fwPy5-roA4&ip=117.225.137.204&id=o-AGiR7dHGspksY-vvMt52nwvLS81vCL9sekSaIG6Q4-l2&itag=251&source=youtube&requiressl=yes&xpc=EgVo2aDSNQ%3D%3D&mh=Mf&mm=31%2C29&mn=sn-cnoa-pmjl%2Csn-qxa7snel&ms=au%2Crdu&mv=m&mvi=5&pl=20&initcwndbps=313750&vprv=1&mime=audio%2Fwebm&rqh=1&gir=yes&clen=3543652&dur=217.541&lmt=1715936461840507&mt=1716026942&fvip=5&keepalive=yes&c=ANDROID_MUSIC&txp=5532434&sparams=expire%2Cei%2Cip%2Cid%2Citag%2Csource%2Crequiressl%2Cxpc%2Cvprv%2Cmime%2Crqh%2Cgir%2Cclen%2Cdur%2Clmt&sig=AJfQdSswRAIgF3d5giY7zMRJTnElH_aw3g2HwVcAINAbMCIwBmvPn_QCIA56Y1A6q8ZAhG247RfCx-o1soF2YvMyvuInhLyx6wuO&lsparams=mh%2Cmm%2Cmn%2Cms%2Cmv%2Cmvi%2Cpl%2Cinitcwndbps&lsig=AHWaYeowRAIgJXi-RFLg2dA5LYphP5axmLQGx-ug68-ZIeCmH8HKKQkCIA4JNYw7CkIMt1R-pDmUI4ZZg-Wkv_2r518niI-bvIhy', 'mimeType': 'audio/webm; codecs=\"opus\"', 'bitrate': 151470, 'initRange': {'start': '0', 'end': '265'}, 'indexRange': {'start': '266', 'end': '636'}, 'lastModified': '1715936461840507', 'contentLength': '3543652', 'quality': 'tiny', 'projectionType': 'RECTANGULAR', 'averageBitrate': 130316, 'audioQuality': 'AUDIO_QUALITY_MEDIUM', 'approxDurationMs': '217541', 'audioSampleRate': '48000', 'audioChannels': 2, 'loudnessDb': -0.6199999}]\n"
     ]
    }
   ],
   "source": [
    "# Example usage:\n",
    "url = \"https://www.youtube.com/watch?v=itdmnKgVL9Q&pp=ygUDYW12\"  # Replace with your desired YouTube video URL\n",
    "\n",
    "from pytube import YouTube\n",
    "import re\n",
    "\n",
    "# Creating a YouTube object\n",
    "yt = YouTube(url)\n",
    "\n",
    "# Accessing streaming data\n",
    "metadata = yt.streaming_data\n",
    "adaptiveFormats_list = metadata.get(\"adaptiveFormats\")\n",
    "\n",
    "print(adaptiveFormats_list)"
   ]
  },
  {
   "cell_type": "code",
   "execution_count": 12,
   "metadata": {},
   "outputs": [
    {
     "name": "stdout",
     "output_type": "stream",
     "text": [
      "Audio-only streams and their itag values:\n",
      "itag: 139, mimeType: audio/mp4; codecs=\"mp4a.40.5\", bitrate: 49974\n",
      "itag: 140, mimeType: audio/mp4; codecs=\"mp4a.40.2\", bitrate: 130439\n",
      "itag: 249, mimeType: audio/webm; codecs=\"opus\", bitrate: 57334\n",
      "itag: 250, mimeType: audio/webm; codecs=\"opus\", bitrate: 76012\n",
      "itag: 251, mimeType: audio/webm; codecs=\"opus\", bitrate: 151470\n"
     ]
    }
   ],
   "source": [
    "from pytube import YouTube\n",
    "\n",
    "# URL of the YouTube video\n",
    "url = \"https://www.youtube.com/watch?v=itdmnKgVL9Q&pp=ygUDYW12\"\n",
    "\n",
    "# Create a YouTube object\n",
    "yt = YouTube(url)\n",
    "\n",
    "# Accessing streaming data\n",
    "## extracts the adaptiveFormats list, which contains various formats of the video including audio-only streams.\n",
    "metadata = yt.streaming_data\n",
    "adaptive_formats_list = metadata.get(\"adaptiveFormats\")\n",
    "\n",
    "#Filter for Audio-Only Streams:\n",
    "## Filter list of dictionaries for audio-only streams\n",
    "audio_streams = [stream for stream in adaptive_formats_list if stream['mimeType'].startswith('audio/')]\n",
    "\n",
    "# Print the itag values for the audio-only streams\n",
    "print(\"Audio-only streams and their itag values:\")\n",
    "for stream in audio_streams:\n",
    "    print(f\"itag: {stream['itag']}, mimeType: {stream['mimeType']}, bitrate: {stream.get('bitrate', 'N/A')}\")\n",
    "\n",
    "\n"
   ]
  },
  {
   "cell_type": "code",
   "execution_count": 13,
   "metadata": {},
   "outputs": [
    {
     "name": "stdout",
     "output_type": "stream",
     "text": [
      "The itag of the highest quality audio stream is: 251\n"
     ]
    }
   ],
   "source": [
    "# Find the audio stream with the highest bitrate\n",
    "highest_quality_stream = max(audio_streams, key=lambda x: x['bitrate'])\n",
    "# Return the itag of the highest quality stream\n",
    "print(f\"The itag of the highest quality audio stream is: {highest_quality_stream['itag']}\")"
   ]
  },
  {
   "cell_type": "code",
   "execution_count": 14,
   "metadata": {},
   "outputs": [
    {
     "ename": "TypeError",
     "evalue": "int() argument must be a string, a bytes-like object or a real number, not 'dict'",
     "output_type": "error",
     "traceback": [
      "\u001b[0;31m---------------------------------------------------------------------------\u001b[0m",
      "\u001b[0;31mTypeError\u001b[0m                                 Traceback (most recent call last)",
      "Cell \u001b[0;32mIn[14], line 1\u001b[0m\n\u001b[0;32m----> 1\u001b[0m audio_stream \u001b[38;5;241m=\u001b[39m \u001b[43myt\u001b[49m\u001b[38;5;241;43m.\u001b[39;49m\u001b[43mstreams\u001b[49m\u001b[38;5;241;43m.\u001b[39;49m\u001b[43mget_by_itag\u001b[49m\u001b[43m(\u001b[49m\u001b[43mhighest_quality_stream\u001b[49m\u001b[43m)\u001b[49m\n\u001b[1;32m      2\u001b[0m audio_stream\u001b[38;5;241m.\u001b[39mdownload(filename\u001b[38;5;241m=\u001b[39m\u001b[38;5;124m'\u001b[39m\u001b[38;5;124mhighest_quality_audio.mp3\u001b[39m\u001b[38;5;124m'\u001b[39m)\n",
      "File \u001b[0;32m~/.local/lib/python3.10/site-packages/pytube/query.py:248\u001b[0m, in \u001b[0;36mStreamQuery.get_by_itag\u001b[0;34m(self, itag)\u001b[0m\n\u001b[1;32m    237\u001b[0m \u001b[38;5;28;01mdef\u001b[39;00m \u001b[38;5;21mget_by_itag\u001b[39m(\u001b[38;5;28mself\u001b[39m, itag: \u001b[38;5;28mint\u001b[39m) \u001b[38;5;241m-\u001b[39m\u001b[38;5;241m>\u001b[39m Optional[Stream]:\n\u001b[1;32m    238\u001b[0m \u001b[38;5;250m    \u001b[39m\u001b[38;5;124;03m\"\"\"Get the corresponding :class:`Stream <Stream>` for a given itag.\u001b[39;00m\n\u001b[1;32m    239\u001b[0m \n\u001b[1;32m    240\u001b[0m \u001b[38;5;124;03m    :param int itag:\u001b[39;00m\n\u001b[0;32m   (...)\u001b[0m\n\u001b[1;32m    246\u001b[0m \n\u001b[1;32m    247\u001b[0m \u001b[38;5;124;03m    \"\"\"\u001b[39;00m\n\u001b[0;32m--> 248\u001b[0m     \u001b[38;5;28;01mreturn\u001b[39;00m \u001b[38;5;28mself\u001b[39m\u001b[38;5;241m.\u001b[39mitag_index\u001b[38;5;241m.\u001b[39mget(\u001b[38;5;28;43mint\u001b[39;49m\u001b[43m(\u001b[49m\u001b[43mitag\u001b[49m\u001b[43m)\u001b[49m)\n",
      "\u001b[0;31mTypeError\u001b[0m: int() argument must be a string, a bytes-like object or a real number, not 'dict'"
     ]
    }
   ],
   "source": [
    "audio_stream = yt.streams.get_by_itag(highest_quality_stream)\n",
    "audio_stream.download(filename='highest_quality_audio.mp3')\n"
   ]
  },
  {
   "cell_type": "code",
   "execution_count": null,
   "metadata": {},
   "outputs": [],
   "source": []
  }
 ],
 "metadata": {
  "kernelspec": {
   "display_name": "Python 3",
   "language": "python",
   "name": "python3"
  },
  "language_info": {
   "codemirror_mode": {
    "name": "ipython",
    "version": 3
   },
   "file_extension": ".py",
   "mimetype": "text/x-python",
   "name": "python",
   "nbconvert_exporter": "python",
   "pygments_lexer": "ipython3",
   "version": "3.10.12"
  }
 },
 "nbformat": 4,
 "nbformat_minor": 2
}
